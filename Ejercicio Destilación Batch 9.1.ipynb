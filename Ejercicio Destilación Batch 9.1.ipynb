{
 "cells": [
  {
   "cell_type": "markdown",
   "metadata": {},
   "source": [
    "Elaborado por Israel Cevallos"
   ]
  },
  {
   "cell_type": "markdown",
   "metadata": {},
   "source": [
    "# <center>DESTILACIÓN BATCH</center>"
   ]
  },
  {
   "cell_type": "markdown",
   "metadata": {},
   "source": [
    "# Ejercicio 9.1 Wankat"
   ]
  },
  {
   "cell_type": "markdown",
   "metadata": {},
   "source": [
    "We wish to use a simple batch still (one equilibrium stage) to separate methanol from water. The feed\n",
    "charge to the still pot is 50 moles of an 80 mol% methanol mixture. We desire an average distillate\n",
    "concentration of 89.2 mol% methanol. Find the amount of distillate collected, the amount of material\n",
    "left in the still pot, and the concentration of material in the still pot. Pressure is 1 atm. Methanol-water\n",
    "equilibrium data at 1 atm are given in Table 2-7 in Problem 2.D1."
   ]
  },
  {
   "cell_type": "markdown",
   "metadata": {},
   "source": [
    "<img src=\"https://i.imgur.com/OKljCVF.png\" align=\"top\" width=300 height=300>"
   ]
  },
  {
   "cell_type": "markdown",
   "metadata": {},
   "source": [
    "## Cargado de datos"
   ]
  },
  {
   "cell_type": "markdown",
   "metadata": {},
   "source": [
    "Primero se cargan los datos de equilibrio del problema"
   ]
  },
  {
   "cell_type": "code",
   "execution_count": 1,
   "metadata": {},
   "outputs": [
    {
     "data": {
      "text/html": [
       "<div>\n",
       "<style scoped>\n",
       "    .dataframe tbody tr th:only-of-type {\n",
       "        vertical-align: middle;\n",
       "    }\n",
       "\n",
       "    .dataframe tbody tr th {\n",
       "        vertical-align: top;\n",
       "    }\n",
       "\n",
       "    .dataframe thead th {\n",
       "        text-align: right;\n",
       "    }\n",
       "</style>\n",
       "<table border=\"1\" class=\"dataframe\">\n",
       "  <thead>\n",
       "    <tr style=\"text-align: right;\">\n",
       "      <th></th>\n",
       "      <th>x</th>\n",
       "      <th>y</th>\n",
       "    </tr>\n",
       "  </thead>\n",
       "  <tbody>\n",
       "    <tr>\n",
       "      <th>0</th>\n",
       "      <td>0.00</td>\n",
       "      <td>0.000</td>\n",
       "    </tr>\n",
       "    <tr>\n",
       "      <th>1</th>\n",
       "      <td>0.02</td>\n",
       "      <td>0.134</td>\n",
       "    </tr>\n",
       "    <tr>\n",
       "      <th>2</th>\n",
       "      <td>0.04</td>\n",
       "      <td>0.230</td>\n",
       "    </tr>\n",
       "    <tr>\n",
       "      <th>3</th>\n",
       "      <td>0.06</td>\n",
       "      <td>0.304</td>\n",
       "    </tr>\n",
       "    <tr>\n",
       "      <th>4</th>\n",
       "      <td>0.08</td>\n",
       "      <td>0.365</td>\n",
       "    </tr>\n",
       "    <tr>\n",
       "      <th>5</th>\n",
       "      <td>0.10</td>\n",
       "      <td>0.418</td>\n",
       "    </tr>\n",
       "    <tr>\n",
       "      <th>6</th>\n",
       "      <td>0.15</td>\n",
       "      <td>0.517</td>\n",
       "    </tr>\n",
       "    <tr>\n",
       "      <th>7</th>\n",
       "      <td>0.20</td>\n",
       "      <td>0.579</td>\n",
       "    </tr>\n",
       "    <tr>\n",
       "      <th>8</th>\n",
       "      <td>0.30</td>\n",
       "      <td>0.665</td>\n",
       "    </tr>\n",
       "    <tr>\n",
       "      <th>9</th>\n",
       "      <td>0.40</td>\n",
       "      <td>0.729</td>\n",
       "    </tr>\n",
       "    <tr>\n",
       "      <th>10</th>\n",
       "      <td>0.50</td>\n",
       "      <td>0.779</td>\n",
       "    </tr>\n",
       "    <tr>\n",
       "      <th>11</th>\n",
       "      <td>0.60</td>\n",
       "      <td>0.825</td>\n",
       "    </tr>\n",
       "    <tr>\n",
       "      <th>12</th>\n",
       "      <td>0.70</td>\n",
       "      <td>0.870</td>\n",
       "    </tr>\n",
       "    <tr>\n",
       "      <th>13</th>\n",
       "      <td>0.80</td>\n",
       "      <td>0.915</td>\n",
       "    </tr>\n",
       "    <tr>\n",
       "      <th>14</th>\n",
       "      <td>0.90</td>\n",
       "      <td>0.958</td>\n",
       "    </tr>\n",
       "    <tr>\n",
       "      <th>15</th>\n",
       "      <td>0.95</td>\n",
       "      <td>0.979</td>\n",
       "    </tr>\n",
       "    <tr>\n",
       "      <th>16</th>\n",
       "      <td>1.00</td>\n",
       "      <td>1.000</td>\n",
       "    </tr>\n",
       "  </tbody>\n",
       "</table>\n",
       "</div>"
      ],
      "text/plain": [
       "       x      y\n",
       "0   0.00  0.000\n",
       "1   0.02  0.134\n",
       "2   0.04  0.230\n",
       "3   0.06  0.304\n",
       "4   0.08  0.365\n",
       "5   0.10  0.418\n",
       "6   0.15  0.517\n",
       "7   0.20  0.579\n",
       "8   0.30  0.665\n",
       "9   0.40  0.729\n",
       "10  0.50  0.779\n",
       "11  0.60  0.825\n",
       "12  0.70  0.870\n",
       "13  0.80  0.915\n",
       "14  0.90  0.958\n",
       "15  0.95  0.979\n",
       "16  1.00  1.000"
      ]
     },
     "execution_count": 1,
     "metadata": {},
     "output_type": "execute_result"
    }
   ],
   "source": [
    "#Librerías principales\n",
    "import math\n",
    "import numpy as np\n",
    "import pandas as pd\n",
    "import matplotlib.pyplot as plt\n",
    "\n",
    "datos = pd.read_excel(\"Ejemplo 9.1 Destilación Batch.xlsx\", sheet_name=\"Data\")\n",
    "\n",
    "#Datos del problema\n",
    "F = 50 #mol\n",
    "xF = 0.80\n",
    "xDavg = 0.892\n",
    "\n",
    "datos"
   ]
  },
  {
   "cell_type": "markdown",
   "metadata": {},
   "source": [
    "Se genera el plot de la curva de equilibrio"
   ]
  },
  {
   "cell_type": "code",
   "execution_count": 2,
   "metadata": {
    "scrolled": false
   },
   "outputs": [
    {
     "data": {
      "text/plain": [
       "[<matplotlib.lines.Line2D at 0x1d31445f8e0>]"
      ]
     },
     "execution_count": 2,
     "metadata": {},
     "output_type": "execute_result"
    },
    {
     "data": {
      "image/png": "[encoded data removed]",
      "text/plain": [
       "<Figure size 432x288 with 1 Axes>"
      ]
     },
     "metadata": {
      "needs_background": "light"
     },
     "output_type": "display_data"
    }
   ],
   "source": [
    "plt.figure()\n",
    "plt.plot(datos[\"x\"],datos[\"y\"])\n",
    "plt.plot([0,1],[0,1])"
   ]
  },
  {
   "cell_type": "markdown",
   "metadata": {},
   "source": [
    "## Método 1. Integrar la función de la curva $1/(y-x)$ vs $x$ con la librería Sympy"
   ]
  },
  {
   "cell_type": "markdown",
   "metadata": {},
   "source": [
    "Primero se hace un slice de los datos de equilibrio a utilizar"
   ]
  },
  {
   "cell_type": "code",
   "execution_count": 3,
   "metadata": {},
   "outputs": [
    {
     "data": {
      "text/plain": [
       "[<matplotlib.lines.Line2D at 0x1d31452dd00>]"
      ]
     },
     "execution_count": 3,
     "metadata": {},
     "output_type": "execute_result"
    },
    {
     "data": {
      "image/png": "[encoded data removed]",
      "text/plain": [
       "<Figure size 432x288 with 1 Axes>"
      ]
     },
     "metadata": {
      "needs_background": "light"
     },
     "output_type": "display_data"
    }
   ],
   "source": [
    "#Se cortan desde x=0.08 hasta x=0.8 (10 puntos)\n",
    "datosx = list(datos[\"x\"])\n",
    "eqx = datosx[4:len(datosx)-3]\n",
    "\n",
    "#Se genera la lista de la nueva función (1/(y-x))\n",
    "datosy = list(1/(datos[\"y\"]-datos[\"x\"]))\n",
    "eqy = datosy[4:len(datosy)-3]\n",
    "\n",
    "#Convirtiendo las listas a arreglos de numpy\n",
    "X_p = np.array(eqx).reshape(len(eqx),1)\n",
    "Y_p = np.array(eqy).reshape(len(eqy),1)\n",
    "\n",
    "#Ploteado de los puntos\n",
    "plt.figure()\n",
    "plt.plot(X_p,Y_p,c=\"k\")"
   ]
  },
  {
   "cell_type": "markdown",
   "metadata": {},
   "source": [
    "Con los datos de la nueva función, se quiere obtener la ecuación de la curva por regresión polinomial. Utilizando la librería sklearn"
   ]
  },
  {
   "cell_type": "code",
   "execution_count": 4,
   "metadata": {
    "scrolled": false
   },
   "outputs": [
    {
     "data": {
      "text/plain": [
       "[<matplotlib.lines.Line2D at 0x1d316768730>]"
      ]
     },
     "execution_count": 4,
     "metadata": {},
     "output_type": "execute_result"
    },
    {
     "data": {
      "image/png": "[encoded data removed]",
      "text/plain": [
       "<Figure size 432x288 with 1 Axes>"
      ]
     },
     "metadata": {
      "needs_background": "light"
     },
     "output_type": "display_data"
    }
   ],
   "source": [
    "from sklearn import linear_model\n",
    "########## IMPLEMENTACIÓN DE REGRESIÓN POLINOMIAL ##########\n",
    "from sklearn.model_selection import train_test_split\n",
    "#Separo los datos de \"train\" en entrenamiento y prueba para probar los algoritmos\n",
    "X_train_p, X_test_p, y_train_p, y_test_p = train_test_split(X_p, Y_p, test_size=0.1)\n",
    "from sklearn.preprocessing import PolynomialFeatures\n",
    "#Se define el grado del polinomio (4 en este caso)\n",
    "poli_reg = PolynomialFeatures(degree = 4)\n",
    "#Se transforma las características existentes en características de mayor grado\n",
    "X_train_poli = poli_reg.fit_transform(X_train_p)\n",
    "X_test_poli = poli_reg.fit_transform(X_test_p)\n",
    "#Defino el algoritmo a utilizar\n",
    "pr = linear_model.LinearRegression()\n",
    "#Entreno el modelo\n",
    "pr.fit(X_train_poli, y_train_p)\n",
    "\n",
    "#Los coeficientes e intercepto de la ecuación de grado 4\n",
    "coeficientes = pr.coef_\n",
    "intercepto = pr.intercept_\n",
    "\n",
    "#Generando 20 puntos en x para la ecuación obtenida\n",
    "x = np.linspace(eqx[0],eqx[-1],21)\n",
    "x = x.reshape(len(x),1)\n",
    "a1 = coeficientes[0,1]\n",
    "a2 = coeficientes[0,2]\n",
    "a3 = coeficientes[0,3]\n",
    "a4 = coeficientes[0,4]\n",
    "\n",
    "b = intercepto[0]\n",
    "\n",
    "#Generando los puntos de la función\n",
    "y = b + a1*x + a2*x**2 + a3*x**3 + a4*x**4\n",
    "\n",
    "#Comprobando la función estimada por regresión polinomial\n",
    "plt.figure()\n",
    "plt.plot(x,y,c=\"r\")\n",
    "plt.plot(X_p,Y_p,c=\"k\")  #Para comparar con los datos originales"
   ]
  },
  {
   "cell_type": "markdown",
   "metadata": {},
   "source": [
    "Utilizando la librería sympy se va a integrar la función entre los límites $(x_{Wf}$ supuesto y $x_F)$, con ello calcular el flujo de fondo $W$ y, por último, el $x_{Davg}$"
   ]
  },
  {
   "cell_type": "code",
   "execution_count": 5,
   "metadata": {
    "scrolled": true
   },
   "outputs": [],
   "source": [
    "#Utilizando z como variable para evitar conflicto con la variable x\n",
    "from sympy import integrate\n",
    "from sympy.abc import z\n",
    "\n",
    "#Ecuación de la función a integrar (obtenida con sklearn)\n",
    "f = b + a1*z + a2*z**2 + a3*z**3 + a4*z**4\n",
    "\n",
    "#Suponiendo la composición del fondo\n",
    "xWf = 0.67\n",
    "area = integrate(f,(z,xWf,xF))\n",
    "\n",
    "#Calculando el valor de W\n",
    "W = F*math.exp(-area) #mol\n",
    "D = F-W #mol\n",
    "\n",
    "#Calculando el xD\n",
    "xDcalc = (F*xF-W*xWf)/(F-W)\n",
    "\n",
    "#Porcentaje de error del xD respecto al propuesto por el problema\n",
    "error = abs((xDavg-xDcalc)/xDavg)*100"
   ]
  },
  {
   "cell_type": "markdown",
   "metadata": {},
   "source": [
    "Se genera el mensaje con los resultados"
   ]
  },
  {
   "cell_type": "code",
   "execution_count": 6,
   "metadata": {},
   "outputs": [
    {
     "name": "stdout",
     "output_type": "stream",
     "text": [
      "La cantidad de destilado es 29.35 moles, la del residuo es 20.65 moles y la composición en ésta es 0.670\n",
      "El porcentaje de error en la composición de destilado promedio calculada (0.891) es 0.062%\n"
     ]
    }
   ],
   "source": [
    "print(\"La cantidad de destilado es %.2f moles, la del residuo es %.2f moles y la composición en ésta es %.3f\" %(D, W, xWf))\n",
    "print(\"El porcentaje de error en la composición de destilado promedio calculada (%.3f) es %.3f%%\" %(xDcalc,error))"
   ]
  },
  {
   "cell_type": "markdown",
   "metadata": {},
   "source": [
    "## Método 2. Integrar por Simpson"
   ]
  },
  {
   "cell_type": "markdown",
   "metadata": {},
   "source": [
    "En los datos de que disponemos se supone que la composición en el residuo está entre 0.5 y 0.8, a falta de puntos para la integral (a mayor cantidad más aproximación a la integral) se pueden interpolar, buscar en referencias, o en todo caso utilizar la función que generamos anteriormente por regresión polinómica. Recordar que Simpson (ya sea 1/3 o 3/8) utiliza puntos equidistantes. En este caso se utilizará la función obtenida por regresión y Simpson de 3/8"
   ]
  },
  {
   "cell_type": "markdown",
   "metadata": {},
   "source": [
    "### Intento 1. $x_{Wf} = 0.5$"
   ]
  },
  {
   "cell_type": "code",
   "execution_count": 7,
   "metadata": {
    "scrolled": true
   },
   "outputs": [
    {
     "name": "stdout",
     "output_type": "stream",
     "text": [
      "RESULTADOS\n",
      "Composición del fondo: 0.500\n",
      "Cantidad en el fondo: 9.88 moles\n",
      "Cantidad en el destilado: 40.12 moles\n",
      "Composición en el destilado calculada: 0.874\n",
      "Error en la composición en el destilado: 2.03%\n"
     ]
    }
   ],
   "source": [
    "#Generando los 4 puntos para la cuadratura\n",
    "puntosx1 = np.linspace(0.5,0.8,4)\n",
    "puntosy1 = b + a1*puntosx1 + a2*puntosx1**2 + a3*puntosx1**3 + a4*puntosx1**4\n",
    "xWf1 = puntosx1[0]\n",
    "\n",
    "#Calculando la integral por Simpson 3/8\n",
    "integral1 = ((puntosx1[3]-puntosx1[0])/8)*(puntosy1[0]+3*puntosy1[1]+3*puntosy1[2]+puntosy1[3])\n",
    "W1 = F*math.exp(-integral1)\n",
    "D1 = F-W1\n",
    "xDcalc1 = (F*xF-W1*xWf1)/(F-W1)\n",
    "error1 = abs((xDavg-xDcalc1)/xDavg)*100\n",
    "print(\"RESULTADOS\")\n",
    "print(\"Composición del fondo: %.3f\" %xWf1)\n",
    "print(\"Cantidad en el fondo: %.2f moles\" %W1)\n",
    "print(\"Cantidad en el destilado: %.2f moles\" %D1)\n",
    "print(\"Composición en el destilado calculada: %.3f\" %xDcalc1)\n",
    "print(\"Error en la composición en el destilado: %.2f%%\" %error1)"
   ]
  },
  {
   "cell_type": "markdown",
   "metadata": {},
   "source": [
    "### Intento 2 $x_{Wf} = 0.7$"
   ]
  },
  {
   "cell_type": "code",
   "execution_count": 8,
   "metadata": {},
   "outputs": [
    {
     "name": "stdout",
     "output_type": "stream",
     "text": [
      "RESULTADOS\n",
      "Composición del fondo: 0.700\n",
      "Cantidad en el fondo: 24.44 moles\n",
      "Cantidad en el destilado: 25.56 moles\n",
      "Composición en el destilado calculada: 0.896\n",
      "Error en la composición en el destilado: 0.41%\n"
     ]
    }
   ],
   "source": [
    "#Generando los 4 puntos para la cuadratura\n",
    "puntosx2 = np.linspace(0.7,0.8,4)\n",
    "puntosy2 = b + a1*puntosx2 + a2*puntosx2**2 + a3*puntosx2**3 + a4*puntosx2**4\n",
    "xWf2 = puntosx2[0]\n",
    "\n",
    "#Calculando la integral por Simpson 3/8\n",
    "integral2 = ((puntosx2[3]-puntosx2[0])/8)*(puntosy2[0]+3*puntosy2[1]+3*puntosy2[2]+puntosy2[3])\n",
    "W2 = F*math.exp(-integral2)\n",
    "D2 = F-W2\n",
    "xDcalc2 = (F*xF-W2*xWf2)/(F-W2)\n",
    "error2 = abs((xDavg-xDcalc2)/xDavg)*100\n",
    "print(\"RESULTADOS\")\n",
    "print(\"Composición del fondo: %.3f\" %xWf2)\n",
    "print(\"Cantidad en el fondo: %.2f moles\" %W2)\n",
    "print(\"Cantidad en el destilado: %.2f moles\" %D2)\n",
    "print(\"Composición en el destilado calculada: %.3f\" %xDcalc2)\n",
    "print(\"Error en la composición en el destilado: %.2f%%\" %error2)"
   ]
  },
  {
   "cell_type": "markdown",
   "metadata": {},
   "source": [
    "### Intento 3 $x_{Wf} = 0.65$"
   ]
  },
  {
   "cell_type": "code",
   "execution_count": 9,
   "metadata": {
    "scrolled": true
   },
   "outputs": [
    {
     "name": "stdout",
     "output_type": "stream",
     "text": [
      "RESULTADOS\n",
      "Composición del fondo: 0.650\n",
      "Cantidad en el fondo: 18.61 moles\n",
      "Cantidad en el destilado: 31.39 moles\n",
      "Composición en el destilado calculada: 0.889\n",
      "Error en la composición en el destilado: 0.34%\n"
     ]
    }
   ],
   "source": [
    "#Generando los 4 puntos para la cuadratura\n",
    "puntosx3 = np.linspace(0.65,0.8,4)\n",
    "puntosy3 = b + a1*puntosx3 + a2*puntosx3**2 + a3*puntosx3**3 + a4*puntosx3**4\n",
    "xWf3 = puntosx3[0]\n",
    "\n",
    "#Calculando la integral por Simpson 3/8\n",
    "integral3 = ((puntosx3[3]-puntosx3[0])/8)*(puntosy3[0]+3*puntosy3[1]+3*puntosy3[2]+puntosy3[3])\n",
    "W3 = F*math.exp(-integral3)\n",
    "D3 = F-W3\n",
    "xDcalc3 = (F*xF-W3*xWf3)/(F-W3)\n",
    "error3 = abs((xDavg-xDcalc3)/xDavg)*100\n",
    "print(\"RESULTADOS\")\n",
    "print(\"Composición del fondo: %.3f\" %xWf3)\n",
    "print(\"Cantidad en el fondo: %.2f moles\" %W3)\n",
    "print(\"Cantidad en el destilado: %.2f moles\" %D3)\n",
    "print(\"Composición en el destilado calculada: %.3f\" %xDcalc3)\n",
    "print(\"Error en la composición en el destilado: %.2f%%\" %error3)"
   ]
  }
 ],
 "metadata": {
  "kernelspec": {
   "display_name": "Python 3",
   "language": "python",
   "name": "python3"
  },
  "language_info": {
   "codemirror_mode": {
    "name": "ipython",
    "version": 3
   },
   "file_extension": ".py",
   "mimetype": "text/x-python",
   "name": "python",
   "nbconvert_exporter": "python",
   "pygments_lexer": "ipython3",
   "version": "3.8.3"
  }
 },
 "nbformat": 4,
 "nbformat_minor": 4
}
